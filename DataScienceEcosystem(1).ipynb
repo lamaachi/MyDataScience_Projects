{
  "cells": [
    {
      "cell_type": "markdown",
      "metadata": {
        "id": "view-in-github",
        "colab_type": "text"
      },
      "source": [
        "<a href=\"https://colab.research.google.com/github/lamaachi/MyDataScience_Projects/blob/main/DataScienceEcosystem(1).ipynb\" target=\"_parent\"><img src=\"https://colab.research.google.com/assets/colab-badge.svg\" alt=\"Open In Colab\"/></a>"
      ]
    },
    {
      "cell_type": "markdown",
      "metadata": {
        "id": "PSO2SLOxEyNt"
      },
      "source": [
        "<center>\n",
        "    <img src=\"https://cf-courses-data.s3.us.cloud-object-storage.appdomain.cloud/IBMDeveloperSkillsNetwork-DS0105EN-SkillsNetwork/labs/Module2/images/SN_web_lightmode.png\" width=\"300\" alt=\"cognitiveclass.ai logo\">\n",
        "</center>\n"
      ]
    },
    {
      "cell_type": "markdown",
      "metadata": {
        "id": "G7GZSMakEyN2"
      },
      "source": [
        "#### Add your code below following the instructions given in the course\n"
      ]
    },
    {
      "cell_type": "markdown",
      "metadata": {
        "id": "s5hzFJjgEyN4"
      },
      "source": [
        "# Data Science Tools and Ecosystem"
      ]
    },
    {
      "cell_type": "markdown",
      "metadata": {
        "id": "yOmaxHJAEyN6"
      },
      "source": [
        "In this notebook, Data Science Tools and Ecosystem are summarized.\n"
      ]
    },
    {
      "cell_type": "markdown",
      "metadata": {
        "id": "sb7kE85SEyN8"
      },
      "source": [
        "Some of the popular languages that Data Scientists use are:\n",
        "1. R\n",
        "2. python"
      ]
    },
    {
      "cell_type": "markdown",
      "metadata": {
        "id": "TYTgmJceEyN8"
      },
      "source": [
        "| Data Science Tools |\n",
        "|--------------------|\n",
        "| Jupyter Notebook  |\n",
        "| RStudio          |\n",
        "| Apache Spark     |\n"
      ]
    },
    {
      "cell_type": "markdown",
      "metadata": {
        "id": "7elDVda3EyN9"
      },
      "source": [
        "### Below are a few examples of evaluating arithmetic expressions in Python"
      ]
    },
    {
      "cell_type": "code",
      "execution_count": null,
      "metadata": {
        "id": "EzEjg6XqEyN9",
        "outputId": "e9adab1e-2e85-45b3-bc21-b4e267c1fbbd"
      },
      "outputs": [
        {
          "data": {
            "text/plain": [
              "17"
            ]
          },
          "execution_count": 3,
          "metadata": {},
          "output_type": "execute_result"
        }
      ],
      "source": [
        "# This is a simple arithmetic expression to multiply then add integers\n",
        "(3*4)+5\n"
      ]
    },
    {
      "cell_type": "code",
      "execution_count": null,
      "metadata": {
        "id": "WUE-hnl-EyN_",
        "outputId": "d0562f71-0bf3-40ed-def5-e1062baffbb9"
      },
      "outputs": [
        {
          "data": {
            "text/plain": [
              "3.3333333333333335"
            ]
          },
          "execution_count": 4,
          "metadata": {},
          "output_type": "execute_result"
        }
      ],
      "source": [
        "# This will convert 200 minutes to hours by dividing by 60\n",
        "200 / 60"
      ]
    },
    {
      "cell_type": "markdown",
      "metadata": {
        "id": "7DOg8EnZEyOB"
      },
      "source": [
        "**Objectives:**\n",
        "- List popular languages for Data Science\n",
        "- Identify commonly used libraries\n",
        "- Present Data Science tools in a table\n",
        "- Perform basic arithmetic operations in Python\n",
        "- Convert minutes into hours using Python"
      ]
    },
    {
      "cell_type": "markdown",
      "metadata": {
        "id": "KP1rKvTEEyOB"
      },
      "source": [
        "## Author  \n",
        "LAMAACHI YOUSSEF"
      ]
    }
  ],
  "metadata": {
    "kernelspec": {
      "display_name": "Python 3 (ipykernel)",
      "language": "python",
      "name": "python3"
    },
    "language_info": {
      "codemirror_mode": {
        "name": "ipython",
        "version": 3
      },
      "file_extension": ".py",
      "mimetype": "text/x-python",
      "name": "python",
      "nbconvert_exporter": "python",
      "pygments_lexer": "ipython3",
      "version": "3.12.8"
    },
    "colab": {
      "provenance": [],
      "include_colab_link": true
    }
  },
  "nbformat": 4,
  "nbformat_minor": 0
}