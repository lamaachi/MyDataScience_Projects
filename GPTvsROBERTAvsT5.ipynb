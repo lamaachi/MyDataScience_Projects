{
  "cells": [
    {
      "cell_type": "markdown",
      "metadata": {
        "id": "view-in-github",
        "colab_type": "text"
      },
      "source": [
        "<a href=\"https://colab.research.google.com/github/lamaachi/MyDataScience_Projects/blob/main/GPTvsROBERTAvsT5.ipynb\" target=\"_parent\"><img src=\"https://colab.research.google.com/assets/colab-badge.svg\" alt=\"Open In Colab\"/></a>"
      ]
    },
    {
      "cell_type": "code",
      "execution_count": 17,
      "metadata": {
        "id": "VJP3s-THqXIq"
      },
      "outputs": [],
      "source": [
        "from transformers import RobertaTokenizer, RobertaForCausalLM, T5Tokenizer, T5ForConditionalGeneration\n",
        "import torch\n",
        "from nltk.translate.bleu_score import sentence_bleu\n",
        "import matplotlib.pyplot as plt"
      ]
    },
    {
      "cell_type": "markdown",
      "source": [
        "# RoBERTa Generation\n"
      ],
      "metadata": {
        "id": "poNsUzFCsrMi"
      }
    },
    {
      "cell_type": "code",
      "source": [
        "def generate_text_roberta(prompt):\n",
        "    tokenizer = RobertaTokenizer.from_pretrained('roberta-base')\n",
        "    model = RobertaForCausalLM.from_pretrained('roberta-base')\n",
        "\n",
        "    inputs = tokenizer(prompt, return_tensors=\"pt\", max_length=50, truncation=True,)\n",
        "    outputs = model.generate(\n",
        "        inputs.input_ids,\n",
        "        max_length=50,\n",
        "        do_sample=True,\n",
        "        top_k=50\n",
        "    )\n",
        "    return tokenizer.decode(outputs[0], skip_special_tokens=True)"
      ],
      "metadata": {
        "id": "jP45bxHJsmzZ"
      },
      "execution_count": 18,
      "outputs": []
    },
    {
      "cell_type": "markdown",
      "source": [
        "# T5 Generation"
      ],
      "metadata": {
        "id": "3jJZe2l4uVs_"
      }
    },
    {
      "cell_type": "code",
      "source": [
        "def generate_text_t5(prompt):\n",
        "    tokenizer = T5Tokenizer.from_pretrained('t5-small')\n",
        "    model = T5ForConditionalGeneration.from_pretrained('t5-small')\n",
        "\n",
        "    inputs = tokenizer(prompt, return_tensors=\"pt\", max_length=50, truncation=True)\n",
        "    outputs = model.generate(\n",
        "        inputs.input_ids,\n",
        "        max_length=50,\n",
        "        num_beams=4,\n",
        "        early_stopping=True\n",
        "    )\n",
        "    return tokenizer.decode(outputs[0], skip_special_tokens=True)"
      ],
      "metadata": {
        "id": "-gNc-naxuUOb"
      },
      "execution_count": 19,
      "outputs": []
    },
    {
      "cell_type": "markdown",
      "source": [
        "# BLEU Score Computation"
      ],
      "metadata": {
        "id": "vkItlpYOuqtv"
      }
    },
    {
      "cell_type": "code",
      "source": [
        "def calculer_blue(reference, candidate):\n",
        "    reference = reference.split()\n",
        "    print(f'references :{reference}')\n",
        "    candidate = candidate.split()\n",
        "    return sentence_bleu([reference], candidate)"
      ],
      "metadata": {
        "id": "RItnTzsmuuBK"
      },
      "execution_count": 20,
      "outputs": []
    },
    {
      "cell_type": "code",
      "source": [
        "prompt = \"Once upon a time, in a galaxy far, far away, there was an advanced civilization that lived in harmony with nature.\""
      ],
      "metadata": {
        "id": "kCvRKKZhwAKS"
      },
      "execution_count": 21,
      "outputs": []
    },
    {
      "cell_type": "code",
      "source": [
        "# generer de text\n",
        "roberta_output = generate_text_roberta(prompt)\n",
        "t5_output = generate_text_t5(prompt)\n",
        "\n",
        "reference_text = roberta_output\n",
        "print(f'roberta reféference : {reference_text} ')\n",
        "scores = {\n",
        "        'RoBERTa': calculer_blue(reference_text, roberta_output),\n",
        "        'T5': calculer_blue(reference_text, t5_output)\n",
        "    }"
      ],
      "metadata": {
        "colab": {
          "base_uri": "https://localhost:8080/"
        },
        "id": "W7RpmUrmwPrh",
        "outputId": "8fc37de7-a40c-489b-b9f6-99ed0ad3dd6d"
      },
      "execution_count": 22,
      "outputs": [
        {
          "output_type": "stream",
          "name": "stderr",
          "text": [
            "If you want to use `RobertaLMHeadModel` as a standalone, add `is_decoder=True.`\n"
          ]
        },
        {
          "output_type": "stream",
          "name": "stdout",
          "text": [
            "roberta reféference : Once upon a time, in a galaxy far, far away, there was an advanced civilization that lived in harmony with nature. \n",
            "references :['Once', 'upon', 'a', 'time,', 'in', 'a', 'galaxy', 'far,', 'far', 'away,', 'there', 'was', 'an', 'advanced', 'civilization', 'that', 'lived', 'in', 'harmony', 'with', 'nature.']\n",
            "references :['Once', 'upon', 'a', 'time,', 'in', 'a', 'galaxy', 'far,', 'far', 'away,', 'there', 'was', 'an', 'advanced', 'civilization', 'that', 'lived', 'in', 'harmony', 'with', 'nature.']\n"
          ]
        },
        {
          "output_type": "stream",
          "name": "stderr",
          "text": [
            "/usr/local/lib/python3.10/dist-packages/nltk/translate/bleu_score.py:577: UserWarning: \n",
            "The hypothesis contains 0 counts of 2-gram overlaps.\n",
            "Therefore the BLEU score evaluates to 0, independently of\n",
            "how many N-gram overlaps of lower order it contains.\n",
            "Consider using lower n-gram order or use SmoothingFunction()\n",
            "  warnings.warn(_msg)\n",
            "/usr/local/lib/python3.10/dist-packages/nltk/translate/bleu_score.py:577: UserWarning: \n",
            "The hypothesis contains 0 counts of 3-gram overlaps.\n",
            "Therefore the BLEU score evaluates to 0, independently of\n",
            "how many N-gram overlaps of lower order it contains.\n",
            "Consider using lower n-gram order or use SmoothingFunction()\n",
            "  warnings.warn(_msg)\n",
            "/usr/local/lib/python3.10/dist-packages/nltk/translate/bleu_score.py:577: UserWarning: \n",
            "The hypothesis contains 0 counts of 4-gram overlaps.\n",
            "Therefore the BLEU score evaluates to 0, independently of\n",
            "how many N-gram overlaps of lower order it contains.\n",
            "Consider using lower n-gram order or use SmoothingFunction()\n",
            "  warnings.warn(_msg)\n"
          ]
        }
      ]
    },
    {
      "cell_type": "code",
      "source": [
        "print(f'SCOOOORE : {scores}')\n",
        "print(f'Score {scores}')\n",
        "plt.figure(figsize=(10, 6))\n",
        "plt.bar(scores.keys(), scores.values())\n",
        "plt.title('BLEU Scores Comparison')\n",
        "plt.ylabel('BLEU Score')\n",
        "plt.ylim(0, 1)\n",
        "plt.show()"
      ],
      "metadata": {
        "colab": {
          "base_uri": "https://localhost:8080/",
          "height": 582
        },
        "id": "nnp9j3N3wsWD",
        "outputId": "e542bc78-ddce-4c38-fa6b-96b1c39ff625"
      },
      "execution_count": 23,
      "outputs": [
        {
          "output_type": "stream",
          "name": "stdout",
          "text": [
            "SCOOOORE : {'RoBERTa': 1.0, 'T5': 9.340329853840331e-232}\n",
            "Score {'RoBERTa': 1.0, 'T5': 9.340329853840331e-232}\n"
          ]
        },
        {
          "output_type": "display_data",
          "data": {
            "text/plain": [
              "<Figure size 1000x600 with 1 Axes>"
            ],
            "image/png": "[encoded data removed]"
          },
          "metadata": {}
        }
      ]
    },
    {
      "cell_type": "code",
      "source": [
        "print(\"\\nGenerated Texts:\")\n",
        "print(f\"RoBERTa: {roberta_output}\")\n",
        "print(f\"T5: {t5_output}\")"
      ],
      "metadata": {
        "colab": {
          "base_uri": "https://localhost:8080/"
        },
        "id": "2yk5n8HdwvPJ",
        "outputId": "5635cc2c-2683-4563-c67a-f48e263e3896"
      },
      "execution_count": 24,
      "outputs": [
        {
          "output_type": "stream",
          "name": "stdout",
          "text": [
            "\n",
            "Generated Texts:\n",
            "RoBERTa: Once upon a time, in a galaxy far, far away, there was an advanced civilization that lived in harmony with nature.\n",
            "T5: Einstmals, in einer Galaxie weit, weit entfernt, gab es eine fortschrittliche Zivilisation, die in Harmonie mit der Natur lebte.\n"
          ]
        }
      ]
    }
  ],
  "metadata": {
    "colab": {
      "provenance": [],
      "authorship_tag": "ABX9TyPKvsAvWivXIaj2e4G1fyol",
      "include_colab_link": true
    },
    "kernelspec": {
      "display_name": "Python 3",
      "name": "python3"
    },
    "language_info": {
      "name": "python"
    }
  },
  "nbformat": 4,
  "nbformat_minor": 0
}