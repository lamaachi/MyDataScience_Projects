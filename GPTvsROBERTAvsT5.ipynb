{
  "cells": [
    {
      "cell_type": "markdown",
      "metadata": {
        "id": "view-in-github",
        "colab_type": "text"
      },
      "source": [
        "<a href=\"https://colab.research.google.com/github/lamaachi/MyDataScience_Projects/blob/main/GPTvsROBERTAvsT5.ipynb\" target=\"_parent\"><img src=\"https://colab.research.google.com/assets/colab-badge.svg\" alt=\"Open In Colab\"/></a>"
      ]
    },
    {
      "cell_type": "code",
      "execution_count": 5,
      "metadata": {
        "id": "VJP3s-THqXIq"
      },
      "outputs": [],
      "source": [
        "from transformers import RobertaTokenizer, RobertaForCausalLM, T5Tokenizer, T5ForConditionalGeneration\n",
        "import torch\n",
        "from nltk.translate.bleu_score import sentence_bleu\n",
        "import matplotlib.pyplot as plt"
      ]
    },
    {
      "cell_type": "markdown",
      "source": [
        "# RoBERTa Generation\n"
      ],
      "metadata": {
        "id": "poNsUzFCsrMi"
      }
    },
    {
      "cell_type": "code",
      "source": [
        "def generate_text_roberta(prompt):\n",
        "    tokenizer = RobertaTokenizer.from_pretrained('roberta-base')\n",
        "    model = RobertaForCausalLM.from_pretrained('roberta-base')\n",
        "\n",
        "    inputs = tokenizer(prompt, return_tensors=\"pt\", max_length=50, truncation=True,)\n",
        "    outputs = model.generate(\n",
        "        inputs.input_ids,\n",
        "        max_length=50,\n",
        "        do_sample=True,\n",
        "        top_k=50\n",
        "    )\n",
        "    return tokenizer.decode(outputs[0], skip_special_tokens=True)"
      ],
      "metadata": {
        "id": "jP45bxHJsmzZ"
      },
      "execution_count": 6,
      "outputs": []
    },
    {
      "cell_type": "markdown",
      "source": [
        "# T5 Generation"
      ],
      "metadata": {
        "id": "3jJZe2l4uVs_"
      }
    },
    {
      "cell_type": "code",
      "source": [
        "def generate_text_t5(prompt):\n",
        "    tokenizer = T5Tokenizer.from_pretrained('t5-small')\n",
        "    model = T5ForConditionalGeneration.from_pretrained('t5-small')\n",
        "\n",
        "    inputs = tokenizer(prompt, return_tensors=\"pt\", max_length=50, truncation=True)\n",
        "    outputs = model.generate(\n",
        "        inputs.input_ids,\n",
        "        max_length=50,\n",
        "        num_beams=4,\n",
        "        early_stopping=True\n",
        "    )\n",
        "    return tokenizer.decode(outputs[0], skip_special_tokens=True)"
      ],
      "metadata": {
        "id": "-gNc-naxuUOb"
      },
      "execution_count": 7,
      "outputs": []
    },
    {
      "cell_type": "markdown",
      "source": [
        "# BLEU Score Computation"
      ],
      "metadata": {
        "id": "vkItlpYOuqtv"
      }
    },
    {
      "cell_type": "code",
      "source": [
        "def calculer_blue(reference, candidate):\n",
        "    reference = reference.split()\n",
        "    print(f'references :{reference}')\n",
        "    candidate = candidate.split()\n",
        "    return sentence_bleu([reference], candidate)"
      ],
      "metadata": {
        "id": "RItnTzsmuuBK"
      },
      "execution_count": 8,
      "outputs": []
    },
    {
      "cell_type": "code",
      "source": [
        "prompt = \"Once upon a time, in a galaxy far, far away, there was an advanced civilization that lived in harmony with nature.\""
      ],
      "metadata": {
        "id": "kCvRKKZhwAKS"
      },
      "execution_count": null,
      "outputs": []
    }
  ],
  "metadata": {
    "colab": {
      "provenance": [],
      "authorship_tag": "ABX9TyMZi/nyQAYIJOu8zpqwNenT",
      "include_colab_link": true
    },
    "kernelspec": {
      "display_name": "Python 3",
      "name": "python3"
    },
    "language_info": {
      "name": "python"
    }
  },
  "nbformat": 4,
  "nbformat_minor": 0
}